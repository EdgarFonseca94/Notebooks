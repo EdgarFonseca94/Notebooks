{
 "cells": [
  {
   "cell_type": "code",
   "execution_count": 1,
   "metadata": {},
   "outputs": [
    {
     "name": "stderr",
     "output_type": "stream",
     "text": [
      "C:\\Users\\efons\\AppData\\Local\\Continuum\\anaconda3\\lib\\site-packages\\grequests.py:21: MonkeyPatchWarning: Monkey-patching ssl after ssl has already been imported may lead to errors, including RecursionError on Python 3.6. It may also silently lead to incorrect behaviour on Python 3.7. Please monkey-patch earlier. See https://github.com/gevent/gevent/issues/1016. Modules that had direct imports (NOT patched): ['urllib3.util (C:\\\\Users\\\\efons\\\\AppData\\\\Local\\\\Continuum\\\\anaconda3\\\\lib\\\\site-packages\\\\urllib3\\\\util\\\\__init__.py)', 'urllib3.contrib.pyopenssl (C:\\\\Users\\\\efons\\\\AppData\\\\Local\\\\Continuum\\\\anaconda3\\\\lib\\\\site-packages\\\\urllib3\\\\contrib\\\\pyopenssl.py)']. \n",
      "  curious_george.patch_all(thread=False, select=False)\n",
      "C:\\Users\\efons\\AppData\\Local\\Continuum\\anaconda3\\lib\\site-packages\\gevent\\hub.py:154: UserWarning: libuv only supports millisecond timer resolution; all times less will be set to 1 ms\n",
      "  with loop.timer(seconds, ref=ref) as t:\n"
     ]
    }
   ],
   "source": [
    "import requests\n",
    "from bs4 import BeautifulSoup\n",
    "import re\n",
    "import numpy as np\n",
    "import grequests\n",
    "import pandas as pd\n",
    "import time\n",
    "import random"
   ]
  },
  {
   "cell_type": "code",
   "execution_count": 2,
   "metadata": {},
   "outputs": [],
   "source": [
    "# number of pages are 0-3000 stepping by 120\n",
    "pages = range(0,3000)\n",
    "pages = list(pages[::120])\n",
    "cl_post = []"
   ]
  },
  {
   "cell_type": "markdown",
   "metadata": {},
   "source": [
    "## Scrape all page results for Bay Area"
   ]
  },
  {
   "cell_type": "code",
   "execution_count": 3,
   "metadata": {},
   "outputs": [
    {
     "name": "stdout",
     "output_type": "stream",
     "text": [
      "--- 90.78914022445679 seconds ---\n"
     ]
    }
   ],
   "source": [
    "# web scrape all URLS to use later\n",
    "start_time = time.time()\n",
    "for page in pages:\n",
    "    req = requests.get('https://sfbay.craigslist.org/search/apa?s=' + str(page))\n",
    "    time.sleep(random.randint(1,3))\n",
    "    \n",
    "    # if error \n",
    "    if req.status_code != 200:\n",
    "        print('Status_code not 200')\n",
    "        break\n",
    "    \n",
    "    # parse the content\n",
    "    html = BeautifulSoup(req.content, 'html5lib')\n",
    "    \n",
    "    # extract URLs loop over for each posting\n",
    "    post = html.find_all('p', class_ = 'result-info')\n",
    "    \n",
    "    # Loop over post in each page. If post is blank stop if not append\n",
    "    for i in range(0, 120):\n",
    "        if post[i] != []:\n",
    "            cl_post.append(post[i].a['href'])\n",
    "        else:\n",
    "            break\n",
    "print(\"--- %s seconds ---\" % (time.time() - start_time))"
   ]
  },
  {
   "cell_type": "code",
   "execution_count": 4,
   "metadata": {},
   "outputs": [
    {
     "data": {
      "text/plain": [
       "3000"
      ]
     },
     "execution_count": 4,
     "metadata": {},
     "output_type": "execute_result"
    }
   ],
   "source": [
    "# Making sure that we got 3000 URL\n",
    "len(cl_post)"
   ]
  },
  {
   "cell_type": "code",
   "execution_count": 5,
   "metadata": {},
   "outputs": [
    {
     "data": {
      "text/plain": [
       "['https://sfbay.craigslist.org/pen/apa/d/menlo-park-prime-location-near-downtown/7086182317.html',\n",
       " 'https://sfbay.craigslist.org/eby/apa/d/san-lorenzo-your-dream-home-is-about-to/7086182258.html',\n",
       " 'https://sfbay.craigslist.org/eby/apa/d/oakland-stunning-views-of-the-bay/7079374661.html',\n",
       " 'https://sfbay.craigslist.org/sby/apa/d/santa-clara-enjoy-2-weeks-free-lease/7086165212.html',\n",
       " 'https://sfbay.craigslist.org/pen/apa/d/palo-alto-cozy-1-bed-1-bath-in/7086182002.html',\n",
       " 'https://sfbay.craigslist.org/eby/apa/d/walnut-creek-courtyard-top-floor-two/7086181985.html',\n",
       " 'https://sfbay.craigslist.org/sfc/apa/d/san-francisco-3br-2ba-spacious-urban/7086178232.html',\n",
       " 'https://sfbay.craigslist.org/pen/apa/d/palo-alto-remodeled-home-on-large-lot/7086181902.html',\n",
       " 'https://sfbay.craigslist.org/eby/apa/d/san-lorenzo-enjoy-the-luxury-of-this/7086181824.html',\n",
       " 'https://sfbay.craigslist.org/eby/apa/d/alameda-1-bedroom-with-2-closets/7086181799.html']"
      ]
     },
     "execution_count": 5,
     "metadata": {},
     "output_type": "execute_result"
    }
   ],
   "source": [
    "# example of the first 10 urls scraped\n",
    "cl_post[:10]"
   ]
  },
  {
   "cell_type": "markdown",
   "metadata": {},
   "source": [
    "Want to extract the area from url."
   ]
  },
  {
   "cell_type": "code",
   "execution_count": 15,
   "metadata": {},
   "outputs": [],
   "source": [
    "area = []\n",
    "for post in cl_post:\n",
    "    area.append(re.findall('/[a-z]{3}/', post)[0])"
   ]
  },
  {
   "cell_type": "code",
   "execution_count": 16,
   "metadata": {},
   "outputs": [
    {
     "name": "stdout",
     "output_type": "stream",
     "text": [
      "3000\n"
     ]
    },
    {
     "data": {
      "text/plain": [
       "['/pen/',\n",
       " '/eby/',\n",
       " '/eby/',\n",
       " '/sby/',\n",
       " '/pen/',\n",
       " '/eby/',\n",
       " '/sfc/',\n",
       " '/pen/',\n",
       " '/eby/',\n",
       " '/eby/']"
      ]
     },
     "execution_count": 16,
     "metadata": {},
     "output_type": "execute_result"
    }
   ],
   "source": [
    "print(len(area))\n",
    "area[:10]"
   ]
  },
  {
   "cell_type": "code",
   "execution_count": 6,
   "metadata": {},
   "outputs": [
    {
     "name": "stdout",
     "output_type": "stream",
     "text": [
      "--- 824.4546511173248 seconds ---\n"
     ]
    }
   ],
   "source": [
    "# Use URLs to scrape each postings html\n",
    "htmls = []\n",
    "start_time = time.time()\n",
    "reqs = (grequests.get(link) for link in cl_post)\n",
    "resp=grequests.imap(reqs, grequests.Pool(10))\n",
    " \n",
    "for r in resp:\n",
    "    html = BeautifulSoup(r.text, 'html.parser')\n",
    "    htmls.append(html)\n",
    "    \n",
    "print(\"--- %s seconds ---\" % (time.time() - start_time))"
   ]
  },
  {
   "cell_type": "markdown",
   "metadata": {},
   "source": [
    "Even with asynchronous webscraping it still took about 14 mins get all the postings."
   ]
  },
  {
   "cell_type": "code",
   "execution_count": 7,
   "metadata": {},
   "outputs": [
    {
     "data": {
      "text/plain": [
       "3000"
      ]
     },
     "execution_count": 7,
     "metadata": {},
     "output_type": "execute_result"
    }
   ],
   "source": [
    "len(htmls)"
   ]
  },
  {
   "cell_type": "markdown",
   "metadata": {},
   "source": [
    "## Use HTML to get variables desired"
   ]
  },
  {
   "cell_type": "code",
   "execution_count": 17,
   "metadata": {},
   "outputs": [],
   "source": [
    "# function to get titles\n",
    "def get_titles(htmls):\n",
    "    titles = []\n",
    "    \n",
    "    for html in htmls:\n",
    "        title = html.h2.text.replace('\\n', '')\n",
    "        titles.append(title)\n",
    "    return(titles)"
   ]
  },
  {
   "cell_type": "code",
   "execution_count": 18,
   "metadata": {},
   "outputs": [],
   "source": [
    "def get_prices(htmls):\n",
    "    prices = []\n",
    "    \n",
    "    # price\n",
    "    for html in htmls:\n",
    "        if html.find('span', class_ = 'price') is not None:\n",
    "            price = html.find('span', class_ = 'price').text[1:]\n",
    "            prices.append(price)\n",
    "        else:\n",
    "            price = np.nan\n",
    "            prices.append(price)\n",
    "    return(prices)"
   ]
  },
  {
   "cell_type": "code",
   "execution_count": 19,
   "metadata": {},
   "outputs": [],
   "source": [
    "def get_rooms(htmls):\n",
    "    bedrooms = []\n",
    "    bathrooms = []\n",
    "    \n",
    "    for html in htmls:\n",
    "        if 'BR' in str(html.find_all('span', class_ = 'shared-line-bubble')):\n",
    "            [bedroom, bathroom] = html.find_all('span', class_ = 'shared-line-bubble')[0].text.split('/')\n",
    "            bedroom = bedroom.replace(' ', '')[:-2]\n",
    "            bathroom = bathroom.replace(' ', '')[:-2]\n",
    "            \n",
    "            bedrooms.append(bedroom)\n",
    "            bathrooms.append(bathroom)\n",
    "        else:\n",
    "            bedroom = np.nan\n",
    "            bathroom = np.nan\n",
    "            \n",
    "            bedrooms.append(bedroom)\n",
    "            bathrooms.append(bathroom)\n",
    "    return(bedrooms, bathrooms)"
   ]
  },
  {
   "cell_type": "code",
   "execution_count": 20,
   "metadata": {},
   "outputs": [],
   "source": [
    "def get_sqft(htmls):\n",
    "    areas = []\n",
    "    \n",
    "     # area. not alwasy specified\n",
    "    for html in htmls:\n",
    "        if html.find('span', class_ = 'housing') is not None:\n",
    "        # if square footage even in title\n",
    "            if 'ft' in str(html.find('span', class_ = 'housing')):\n",
    "                sqr_ft = re.findall('[0-9]*ft', str(html.find('span', class_ = 'housing').text))[0][:-2]\n",
    "                areas.append(sqr_ft)\n",
    "            else:\n",
    "                sqr_ft = np.nan\n",
    "                areas.append(sqr_ft)\n",
    "        else:\n",
    "            sqr_ft = np.nan\n",
    "            areas.append(sqr_ft)\n",
    "    return(areas)"
   ]
  },
  {
   "cell_type": "code",
   "execution_count": 21,
   "metadata": {},
   "outputs": [],
   "source": [
    "def time_posted(htmls):\n",
    "    times = []\n",
    "    \n",
    "    for html in htmls:\n",
    "        if html.time is not None:\n",
    "            time = html.time.text.replace(' ', '')\n",
    "            time = time.replace('\\n', '')\n",
    "            times.append(time)\n",
    "        else:\n",
    "            time = np.nan\n",
    "            times.append(time)\n",
    "    return(times)"
   ]
  },
  {
   "cell_type": "code",
   "execution_count": 22,
   "metadata": {},
   "outputs": [],
   "source": [
    "def get_coord(htmls):\n",
    "    lats = []\n",
    "    longs = []\n",
    "    \n",
    "    # Location. not always mapped\n",
    "    for html in htmls:\n",
    "        if html.find('div', {'id': 'map'}) is not None:\n",
    "            lat = html.find('div', {'id': 'map'})['data-latitude']\n",
    "            long = html.find('div', {'id': 'map'})['data-longitude']\n",
    "            lats.append(lat)\n",
    "            longs.append(long)\n",
    "        else:\n",
    "            lat = np.nan\n",
    "            long = np.nan\n",
    "\n",
    "            lats.append(lat)\n",
    "            longs.append(long)\n",
    "    return(lats, longs)"
   ]
  },
  {
   "cell_type": "code",
   "execution_count": 23,
   "metadata": {},
   "outputs": [],
   "source": [
    "def get_attrs(htmls):\n",
    "    dogs = []\n",
    "    cats = []\n",
    "    parkings = []\n",
    "    laundrys = []\n",
    "    smokings = []\n",
    "    \n",
    "    for html in htmls:\n",
    "        if html.find_all('p', class_ = 'attrgroup') is not None:\n",
    "            cat = re.findall('[' ', \\w]*cats[' ', \\w]*', str(html.find_all('p', class_ = 'attrgroup')))\n",
    "            dog = re.findall('[' ', \\w]*dogs[' ', \\w]*', str(html.find_all('p', class_ = 'attrgroup')))\n",
    "            parking = re.findall('[' ', \\w]*parking[' ', \\w]*', str(html.find_all('p', class_ = 'attrgroup')))\n",
    "            smoking = re.findall('[' ', \\w]*smoking[' ', \\w]*', str(html.find_all('p', class_ = 'attrgroup')))\n",
    "        \n",
    "        cats.append(cat)\n",
    "        dogs.append(dog)\n",
    "        parkings.append(parking)\n",
    "        smokings.append(smoking)\n",
    "    return(dogs,cats, parkings, smokings)"
   ]
  },
  {
   "cell_type": "code",
   "execution_count": 24,
   "metadata": {},
   "outputs": [],
   "source": [
    "titles = get_titles(htmls)"
   ]
  },
  {
   "cell_type": "code",
   "execution_count": 25,
   "metadata": {},
   "outputs": [],
   "source": [
    "prices = get_prices(htmls)"
   ]
  },
  {
   "cell_type": "code",
   "execution_count": 26,
   "metadata": {},
   "outputs": [],
   "source": [
    "bedrooms, bathrooms = get_rooms(htmls)"
   ]
  },
  {
   "cell_type": "code",
   "execution_count": 27,
   "metadata": {},
   "outputs": [],
   "source": [
    "sqft = get_sqft(htmls)"
   ]
  },
  {
   "cell_type": "code",
   "execution_count": 28,
   "metadata": {},
   "outputs": [],
   "source": [
    "time = time_posted(htmls)"
   ]
  },
  {
   "cell_type": "code",
   "execution_count": 29,
   "metadata": {},
   "outputs": [],
   "source": [
    "lats, longs = get_coord(htmls)"
   ]
  },
  {
   "cell_type": "code",
   "execution_count": 30,
   "metadata": {},
   "outputs": [],
   "source": [
    "dogs, cats, parkings, smokings = get_attrs(htmls)"
   ]
  },
  {
   "cell_type": "markdown",
   "metadata": {},
   "source": [
    "## Create DataFrame and Clean it"
   ]
  },
  {
   "cell_type": "code",
   "execution_count": 31,
   "metadata": {},
   "outputs": [],
   "source": [
    "df = pd.DataFrame({\n",
    "    'Title': titles,\n",
    "    'Price': prices,\n",
    "    'Bedrooms': bedrooms,\n",
    "    'Bathrooms': bathrooms,\n",
    "    'Square_feet': sqft,\n",
    "    'Dog': dogs,\n",
    "    'Cat': cats,\n",
    "    'Parking': parkings,\n",
    "    'Smoking': smokings,\n",
    "    'Time_posted': time,\n",
    "    'Longitude': longs,\n",
    "    'Latitude': lats,\n",
    "    'Area': area\n",
    "})"
   ]
  },
  {
   "cell_type": "code",
   "execution_count": 32,
   "metadata": {},
   "outputs": [
    {
     "data": {
      "text/html": [
       "<div>\n",
       "<style scoped>\n",
       "    .dataframe tbody tr th:only-of-type {\n",
       "        vertical-align: middle;\n",
       "    }\n",
       "\n",
       "    .dataframe tbody tr th {\n",
       "        vertical-align: top;\n",
       "    }\n",
       "\n",
       "    .dataframe thead th {\n",
       "        text-align: right;\n",
       "    }\n",
       "</style>\n",
       "<table border=\"1\" class=\"dataframe\">\n",
       "  <thead>\n",
       "    <tr style=\"text-align: right;\">\n",
       "      <th></th>\n",
       "      <th>Title</th>\n",
       "      <th>Price</th>\n",
       "      <th>Bedrooms</th>\n",
       "      <th>Bathrooms</th>\n",
       "      <th>Square_feet</th>\n",
       "      <th>Dog</th>\n",
       "      <th>Cat</th>\n",
       "      <th>Parking</th>\n",
       "      <th>Smoking</th>\n",
       "      <th>Time_posted</th>\n",
       "      <th>Longitude</th>\n",
       "      <th>Latitude</th>\n",
       "      <th>Area</th>\n",
       "    </tr>\n",
       "  </thead>\n",
       "  <tbody>\n",
       "    <tr>\n",
       "      <td>0</td>\n",
       "      <td>$7500 / 4br - 2200ft2 - Prime Location Near Do...</td>\n",
       "      <td>7500</td>\n",
       "      <td>4</td>\n",
       "      <td>2</td>\n",
       "      <td>2200</td>\n",
       "      <td>[]</td>\n",
       "      <td>[]</td>\n",
       "      <td>[]</td>\n",
       "      <td>[no smoking]</td>\n",
       "      <td>2020-03-0218:03</td>\n",
       "      <td>-122.188886</td>\n",
       "      <td>37.451399</td>\n",
       "      <td>/pen/</td>\n",
       "    </tr>\n",
       "    <tr>\n",
       "      <td>1</td>\n",
       "      <td>$2195 / 1br - 950ft2 - YOUR DREAM HOME IS ABOU...</td>\n",
       "      <td>2195</td>\n",
       "      <td>1</td>\n",
       "      <td>1</td>\n",
       "      <td>950</td>\n",
       "      <td>[]</td>\n",
       "      <td>[cats are OK ]</td>\n",
       "      <td>[]</td>\n",
       "      <td>[no smoking]</td>\n",
       "      <td>2020-03-0218:03</td>\n",
       "      <td>-122.139221</td>\n",
       "      <td>37.686232</td>\n",
       "      <td>/eby/</td>\n",
       "    </tr>\n",
       "    <tr>\n",
       "      <td>2</td>\n",
       "      <td>$5375 / 3br - 1286ft2 - Stunning Views of the ...</td>\n",
       "      <td>5375</td>\n",
       "      <td>3</td>\n",
       "      <td>2</td>\n",
       "      <td>1286</td>\n",
       "      <td>[dogs are OK ]</td>\n",
       "      <td>[cats are OK ]</td>\n",
       "      <td>[]</td>\n",
       "      <td>[]</td>\n",
       "      <td>2020-02-2018:13</td>\n",
       "      <td>-122.274055</td>\n",
       "      <td>37.795558</td>\n",
       "      <td>/eby/</td>\n",
       "    </tr>\n",
       "    <tr>\n",
       "      <td>3</td>\n",
       "      <td>$3864 / 2br - 1149ft2 - Enjoy 2 Weeks FREE- Le...</td>\n",
       "      <td>3864</td>\n",
       "      <td>2</td>\n",
       "      <td>2</td>\n",
       "      <td>1149</td>\n",
       "      <td>[dogs are OK ]</td>\n",
       "      <td>[cats are OK ]</td>\n",
       "      <td>[]</td>\n",
       "      <td>[no smoking]</td>\n",
       "      <td>2020-03-0217:27</td>\n",
       "      <td>-121.984400</td>\n",
       "      <td>37.348300</td>\n",
       "      <td>/sby/</td>\n",
       "    </tr>\n",
       "    <tr>\n",
       "      <td>4</td>\n",
       "      <td>$2400 / 1br - 550ft2 - Cozy 1 bed/1 bath in Co...</td>\n",
       "      <td>2400</td>\n",
       "      <td>1</td>\n",
       "      <td>1</td>\n",
       "      <td>550</td>\n",
       "      <td>[]</td>\n",
       "      <td>[]</td>\n",
       "      <td>[]</td>\n",
       "      <td>[no smoking]</td>\n",
       "      <td>2020-03-0218:02</td>\n",
       "      <td>-122.152399</td>\n",
       "      <td>37.460140</td>\n",
       "      <td>/pen/</td>\n",
       "    </tr>\n",
       "    <tr>\n",
       "      <td>5</td>\n",
       "      <td>$2800 / 2br - 1061ft2 - Courtyard Top Floor Tw...</td>\n",
       "      <td>2800</td>\n",
       "      <td>2</td>\n",
       "      <td>2</td>\n",
       "      <td>1061</td>\n",
       "      <td>[dogs are OK ]</td>\n",
       "      <td>[cats are OK ]</td>\n",
       "      <td>[]</td>\n",
       "      <td>[no smoking]</td>\n",
       "      <td>2020-03-0218:02</td>\n",
       "      <td>-122.057397</td>\n",
       "      <td>37.901322</td>\n",
       "      <td>/eby/</td>\n",
       "    </tr>\n",
       "    <tr>\n",
       "      <td>6</td>\n",
       "      <td>$4000 / 3br - 800ft2 - 3BR, 2BA: Spacious, Urb...</td>\n",
       "      <td>4000</td>\n",
       "      <td>3</td>\n",
       "      <td>2</td>\n",
       "      <td>800</td>\n",
       "      <td>[]</td>\n",
       "      <td>[]</td>\n",
       "      <td>[street parking]</td>\n",
       "      <td>[no smoking]</td>\n",
       "      <td>2020-03-0217:54</td>\n",
       "      <td>-122.407001</td>\n",
       "      <td>37.795077</td>\n",
       "      <td>/sfc/</td>\n",
       "    </tr>\n",
       "    <tr>\n",
       "      <td>7</td>\n",
       "      <td>$6850 / 2br - 1300ft2 - Remodeled Home on Larg...</td>\n",
       "      <td>6850</td>\n",
       "      <td>2</td>\n",
       "      <td>2.5</td>\n",
       "      <td>1300</td>\n",
       "      <td>[]</td>\n",
       "      <td>[]</td>\n",
       "      <td>[street parking]</td>\n",
       "      <td>[no smoking]</td>\n",
       "      <td>2020-03-0218:02</td>\n",
       "      <td>-122.145085</td>\n",
       "      <td>37.434029</td>\n",
       "      <td>/pen/</td>\n",
       "    </tr>\n",
       "    <tr>\n",
       "      <td>8</td>\n",
       "      <td>$2450 / 2br - 1000ft2 - ENJOY THE LUXURY OF TH...</td>\n",
       "      <td>2450</td>\n",
       "      <td>2</td>\n",
       "      <td>1</td>\n",
       "      <td>1000</td>\n",
       "      <td>[]</td>\n",
       "      <td>[cats are OK ]</td>\n",
       "      <td>[]</td>\n",
       "      <td>[no smoking]</td>\n",
       "      <td>2020-03-0218:02</td>\n",
       "      <td>-122.139221</td>\n",
       "      <td>37.686232</td>\n",
       "      <td>/eby/</td>\n",
       "    </tr>\n",
       "    <tr>\n",
       "      <td>9</td>\n",
       "      <td>$2705 / 1br - 770ft2 - 1-Bedroom with 2 Closet...</td>\n",
       "      <td>2705</td>\n",
       "      <td>1</td>\n",
       "      <td>1</td>\n",
       "      <td>770</td>\n",
       "      <td>[dogs are OK ]</td>\n",
       "      <td>[cats are OK ]</td>\n",
       "      <td>[]</td>\n",
       "      <td>[no smoking]</td>\n",
       "      <td>2020-03-0218:02</td>\n",
       "      <td>-122.272470</td>\n",
       "      <td>37.762614</td>\n",
       "      <td>/eby/</td>\n",
       "    </tr>\n",
       "  </tbody>\n",
       "</table>\n",
       "</div>"
      ],
      "text/plain": [
       "                                               Title Price Bedrooms Bathrooms  \\\n",
       "0  $7500 / 4br - 2200ft2 - Prime Location Near Do...  7500        4         2   \n",
       "1  $2195 / 1br - 950ft2 - YOUR DREAM HOME IS ABOU...  2195        1         1   \n",
       "2  $5375 / 3br - 1286ft2 - Stunning Views of the ...  5375        3         2   \n",
       "3  $3864 / 2br - 1149ft2 - Enjoy 2 Weeks FREE- Le...  3864        2         2   \n",
       "4  $2400 / 1br - 550ft2 - Cozy 1 bed/1 bath in Co...  2400        1         1   \n",
       "5  $2800 / 2br - 1061ft2 - Courtyard Top Floor Tw...  2800        2         2   \n",
       "6  $4000 / 3br - 800ft2 - 3BR, 2BA: Spacious, Urb...  4000        3         2   \n",
       "7  $6850 / 2br - 1300ft2 - Remodeled Home on Larg...  6850        2       2.5   \n",
       "8  $2450 / 2br - 1000ft2 - ENJOY THE LUXURY OF TH...  2450        2         1   \n",
       "9  $2705 / 1br - 770ft2 - 1-Bedroom with 2 Closet...  2705        1         1   \n",
       "\n",
       "  Square_feet             Dog             Cat           Parking       Smoking  \\\n",
       "0        2200              []              []                []  [no smoking]   \n",
       "1         950              []  [cats are OK ]                []  [no smoking]   \n",
       "2        1286  [dogs are OK ]  [cats are OK ]                []            []   \n",
       "3        1149  [dogs are OK ]  [cats are OK ]                []  [no smoking]   \n",
       "4         550              []              []                []  [no smoking]   \n",
       "5        1061  [dogs are OK ]  [cats are OK ]                []  [no smoking]   \n",
       "6         800              []              []  [street parking]  [no smoking]   \n",
       "7        1300              []              []  [street parking]  [no smoking]   \n",
       "8        1000              []  [cats are OK ]                []  [no smoking]   \n",
       "9         770  [dogs are OK ]  [cats are OK ]                []  [no smoking]   \n",
       "\n",
       "       Time_posted    Longitude   Latitude   Area  \n",
       "0  2020-03-0218:03  -122.188886  37.451399  /pen/  \n",
       "1  2020-03-0218:03  -122.139221  37.686232  /eby/  \n",
       "2  2020-02-2018:13  -122.274055  37.795558  /eby/  \n",
       "3  2020-03-0217:27  -121.984400  37.348300  /sby/  \n",
       "4  2020-03-0218:02  -122.152399  37.460140  /pen/  \n",
       "5  2020-03-0218:02  -122.057397  37.901322  /eby/  \n",
       "6  2020-03-0217:54  -122.407001  37.795077  /sfc/  \n",
       "7  2020-03-0218:02  -122.145085  37.434029  /pen/  \n",
       "8  2020-03-0218:02  -122.139221  37.686232  /eby/  \n",
       "9  2020-03-0218:02  -122.272470  37.762614  /eby/  "
      ]
     },
     "execution_count": 32,
     "metadata": {},
     "output_type": "execute_result"
    }
   ],
   "source": [
    "df.head(10)"
   ]
  },
  {
   "cell_type": "markdown",
   "metadata": {},
   "source": [
    "There are post that got deleted which means I have to remove those."
   ]
  },
  {
   "cell_type": "code",
   "execution_count": 33,
   "metadata": {},
   "outputs": [],
   "source": [
    "df = df[~df['Title'].str.contains('deleted')]\n",
    "df = df.reset_index(drop=True)"
   ]
  },
  {
   "cell_type": "code",
   "execution_count": 34,
   "metadata": {},
   "outputs": [
    {
     "data": {
      "text/plain": [
       "2999"
      ]
     },
     "execution_count": 34,
     "metadata": {},
     "output_type": "execute_result"
    }
   ],
   "source": [
    "# there were 3 post that got deleted\n",
    "len(df)"
   ]
  },
  {
   "cell_type": "code",
   "execution_count": 35,
   "metadata": {},
   "outputs": [],
   "source": [
    "# Would like to remove all the brackets inside my dataframe\n",
    "clean = ['Dog', 'Cat', 'Parking', 'Smoking']\n",
    "for a in clean:\n",
    "    df[a] = df[a].str[0]"
   ]
  },
  {
   "cell_type": "code",
   "execution_count": 36,
   "metadata": {},
   "outputs": [
    {
     "data": {
      "text/html": [
       "<div>\n",
       "<style scoped>\n",
       "    .dataframe tbody tr th:only-of-type {\n",
       "        vertical-align: middle;\n",
       "    }\n",
       "\n",
       "    .dataframe tbody tr th {\n",
       "        vertical-align: top;\n",
       "    }\n",
       "\n",
       "    .dataframe thead th {\n",
       "        text-align: right;\n",
       "    }\n",
       "</style>\n",
       "<table border=\"1\" class=\"dataframe\">\n",
       "  <thead>\n",
       "    <tr style=\"text-align: right;\">\n",
       "      <th></th>\n",
       "      <th>Title</th>\n",
       "      <th>Price</th>\n",
       "      <th>Bedrooms</th>\n",
       "      <th>Bathrooms</th>\n",
       "      <th>Square_feet</th>\n",
       "      <th>Dog</th>\n",
       "      <th>Cat</th>\n",
       "      <th>Parking</th>\n",
       "      <th>Smoking</th>\n",
       "      <th>Time_posted</th>\n",
       "      <th>Longitude</th>\n",
       "      <th>Latitude</th>\n",
       "      <th>Area</th>\n",
       "    </tr>\n",
       "  </thead>\n",
       "  <tbody>\n",
       "    <tr>\n",
       "      <td>0</td>\n",
       "      <td>$7500 / 4br - 2200ft2 - Prime Location Near Do...</td>\n",
       "      <td>7500</td>\n",
       "      <td>4</td>\n",
       "      <td>2</td>\n",
       "      <td>2200</td>\n",
       "      <td>NaN</td>\n",
       "      <td>NaN</td>\n",
       "      <td>NaN</td>\n",
       "      <td>no smoking</td>\n",
       "      <td>2020-03-0218:03</td>\n",
       "      <td>-122.188886</td>\n",
       "      <td>37.451399</td>\n",
       "      <td>/pen/</td>\n",
       "    </tr>\n",
       "    <tr>\n",
       "      <td>1</td>\n",
       "      <td>$2195 / 1br - 950ft2 - YOUR DREAM HOME IS ABOU...</td>\n",
       "      <td>2195</td>\n",
       "      <td>1</td>\n",
       "      <td>1</td>\n",
       "      <td>950</td>\n",
       "      <td>NaN</td>\n",
       "      <td>cats are OK</td>\n",
       "      <td>NaN</td>\n",
       "      <td>no smoking</td>\n",
       "      <td>2020-03-0218:03</td>\n",
       "      <td>-122.139221</td>\n",
       "      <td>37.686232</td>\n",
       "      <td>/eby/</td>\n",
       "    </tr>\n",
       "    <tr>\n",
       "      <td>2</td>\n",
       "      <td>$5375 / 3br - 1286ft2 - Stunning Views of the ...</td>\n",
       "      <td>5375</td>\n",
       "      <td>3</td>\n",
       "      <td>2</td>\n",
       "      <td>1286</td>\n",
       "      <td>dogs are OK</td>\n",
       "      <td>cats are OK</td>\n",
       "      <td>NaN</td>\n",
       "      <td>NaN</td>\n",
       "      <td>2020-02-2018:13</td>\n",
       "      <td>-122.274055</td>\n",
       "      <td>37.795558</td>\n",
       "      <td>/eby/</td>\n",
       "    </tr>\n",
       "    <tr>\n",
       "      <td>3</td>\n",
       "      <td>$3864 / 2br - 1149ft2 - Enjoy 2 Weeks FREE- Le...</td>\n",
       "      <td>3864</td>\n",
       "      <td>2</td>\n",
       "      <td>2</td>\n",
       "      <td>1149</td>\n",
       "      <td>dogs are OK</td>\n",
       "      <td>cats are OK</td>\n",
       "      <td>NaN</td>\n",
       "      <td>no smoking</td>\n",
       "      <td>2020-03-0217:27</td>\n",
       "      <td>-121.984400</td>\n",
       "      <td>37.348300</td>\n",
       "      <td>/sby/</td>\n",
       "    </tr>\n",
       "    <tr>\n",
       "      <td>4</td>\n",
       "      <td>$2400 / 1br - 550ft2 - Cozy 1 bed/1 bath in Co...</td>\n",
       "      <td>2400</td>\n",
       "      <td>1</td>\n",
       "      <td>1</td>\n",
       "      <td>550</td>\n",
       "      <td>NaN</td>\n",
       "      <td>NaN</td>\n",
       "      <td>NaN</td>\n",
       "      <td>no smoking</td>\n",
       "      <td>2020-03-0218:02</td>\n",
       "      <td>-122.152399</td>\n",
       "      <td>37.460140</td>\n",
       "      <td>/pen/</td>\n",
       "    </tr>\n",
       "  </tbody>\n",
       "</table>\n",
       "</div>"
      ],
      "text/plain": [
       "                                               Title Price Bedrooms Bathrooms  \\\n",
       "0  $7500 / 4br - 2200ft2 - Prime Location Near Do...  7500        4         2   \n",
       "1  $2195 / 1br - 950ft2 - YOUR DREAM HOME IS ABOU...  2195        1         1   \n",
       "2  $5375 / 3br - 1286ft2 - Stunning Views of the ...  5375        3         2   \n",
       "3  $3864 / 2br - 1149ft2 - Enjoy 2 Weeks FREE- Le...  3864        2         2   \n",
       "4  $2400 / 1br - 550ft2 - Cozy 1 bed/1 bath in Co...  2400        1         1   \n",
       "\n",
       "  Square_feet           Dog           Cat Parking     Smoking  \\\n",
       "0        2200           NaN           NaN     NaN  no smoking   \n",
       "1         950           NaN  cats are OK      NaN  no smoking   \n",
       "2        1286  dogs are OK   cats are OK      NaN         NaN   \n",
       "3        1149  dogs are OK   cats are OK      NaN  no smoking   \n",
       "4         550           NaN           NaN     NaN  no smoking   \n",
       "\n",
       "       Time_posted    Longitude   Latitude   Area  \n",
       "0  2020-03-0218:03  -122.188886  37.451399  /pen/  \n",
       "1  2020-03-0218:03  -122.139221  37.686232  /eby/  \n",
       "2  2020-02-2018:13  -122.274055  37.795558  /eby/  \n",
       "3  2020-03-0217:27  -121.984400  37.348300  /sby/  \n",
       "4  2020-03-0218:02  -122.152399  37.460140  /pen/  "
      ]
     },
     "execution_count": 36,
     "metadata": {},
     "output_type": "execute_result"
    }
   ],
   "source": [
    "df.head()"
   ]
  },
  {
   "cell_type": "code",
   "execution_count": 38,
   "metadata": {},
   "outputs": [],
   "source": [
    "df['Area'] = df['Area'].str.strip('/')"
   ]
  },
  {
   "cell_type": "code",
   "execution_count": 39,
   "metadata": {},
   "outputs": [
    {
     "data": {
      "text/html": [
       "<div>\n",
       "<style scoped>\n",
       "    .dataframe tbody tr th:only-of-type {\n",
       "        vertical-align: middle;\n",
       "    }\n",
       "\n",
       "    .dataframe tbody tr th {\n",
       "        vertical-align: top;\n",
       "    }\n",
       "\n",
       "    .dataframe thead th {\n",
       "        text-align: right;\n",
       "    }\n",
       "</style>\n",
       "<table border=\"1\" class=\"dataframe\">\n",
       "  <thead>\n",
       "    <tr style=\"text-align: right;\">\n",
       "      <th></th>\n",
       "      <th>Title</th>\n",
       "      <th>Price</th>\n",
       "      <th>Bedrooms</th>\n",
       "      <th>Bathrooms</th>\n",
       "      <th>Square_feet</th>\n",
       "      <th>Dog</th>\n",
       "      <th>Cat</th>\n",
       "      <th>Parking</th>\n",
       "      <th>Smoking</th>\n",
       "      <th>Time_posted</th>\n",
       "      <th>Longitude</th>\n",
       "      <th>Latitude</th>\n",
       "      <th>Area</th>\n",
       "    </tr>\n",
       "  </thead>\n",
       "  <tbody>\n",
       "    <tr>\n",
       "      <td>0</td>\n",
       "      <td>$7500 / 4br - 2200ft2 - Prime Location Near Do...</td>\n",
       "      <td>7500</td>\n",
       "      <td>4</td>\n",
       "      <td>2</td>\n",
       "      <td>2200</td>\n",
       "      <td>NaN</td>\n",
       "      <td>NaN</td>\n",
       "      <td>NaN</td>\n",
       "      <td>no smoking</td>\n",
       "      <td>2020-03-0218:03</td>\n",
       "      <td>-122.188886</td>\n",
       "      <td>37.451399</td>\n",
       "      <td>pen</td>\n",
       "    </tr>\n",
       "    <tr>\n",
       "      <td>1</td>\n",
       "      <td>$2195 / 1br - 950ft2 - YOUR DREAM HOME IS ABOU...</td>\n",
       "      <td>2195</td>\n",
       "      <td>1</td>\n",
       "      <td>1</td>\n",
       "      <td>950</td>\n",
       "      <td>NaN</td>\n",
       "      <td>cats are OK</td>\n",
       "      <td>NaN</td>\n",
       "      <td>no smoking</td>\n",
       "      <td>2020-03-0218:03</td>\n",
       "      <td>-122.139221</td>\n",
       "      <td>37.686232</td>\n",
       "      <td>eby</td>\n",
       "    </tr>\n",
       "    <tr>\n",
       "      <td>2</td>\n",
       "      <td>$5375 / 3br - 1286ft2 - Stunning Views of the ...</td>\n",
       "      <td>5375</td>\n",
       "      <td>3</td>\n",
       "      <td>2</td>\n",
       "      <td>1286</td>\n",
       "      <td>dogs are OK</td>\n",
       "      <td>cats are OK</td>\n",
       "      <td>NaN</td>\n",
       "      <td>NaN</td>\n",
       "      <td>2020-02-2018:13</td>\n",
       "      <td>-122.274055</td>\n",
       "      <td>37.795558</td>\n",
       "      <td>eby</td>\n",
       "    </tr>\n",
       "    <tr>\n",
       "      <td>3</td>\n",
       "      <td>$3864 / 2br - 1149ft2 - Enjoy 2 Weeks FREE- Le...</td>\n",
       "      <td>3864</td>\n",
       "      <td>2</td>\n",
       "      <td>2</td>\n",
       "      <td>1149</td>\n",
       "      <td>dogs are OK</td>\n",
       "      <td>cats are OK</td>\n",
       "      <td>NaN</td>\n",
       "      <td>no smoking</td>\n",
       "      <td>2020-03-0217:27</td>\n",
       "      <td>-121.984400</td>\n",
       "      <td>37.348300</td>\n",
       "      <td>sby</td>\n",
       "    </tr>\n",
       "    <tr>\n",
       "      <td>4</td>\n",
       "      <td>$2400 / 1br - 550ft2 - Cozy 1 bed/1 bath in Co...</td>\n",
       "      <td>2400</td>\n",
       "      <td>1</td>\n",
       "      <td>1</td>\n",
       "      <td>550</td>\n",
       "      <td>NaN</td>\n",
       "      <td>NaN</td>\n",
       "      <td>NaN</td>\n",
       "      <td>no smoking</td>\n",
       "      <td>2020-03-0218:02</td>\n",
       "      <td>-122.152399</td>\n",
       "      <td>37.460140</td>\n",
       "      <td>pen</td>\n",
       "    </tr>\n",
       "  </tbody>\n",
       "</table>\n",
       "</div>"
      ],
      "text/plain": [
       "                                               Title Price Bedrooms Bathrooms  \\\n",
       "0  $7500 / 4br - 2200ft2 - Prime Location Near Do...  7500        4         2   \n",
       "1  $2195 / 1br - 950ft2 - YOUR DREAM HOME IS ABOU...  2195        1         1   \n",
       "2  $5375 / 3br - 1286ft2 - Stunning Views of the ...  5375        3         2   \n",
       "3  $3864 / 2br - 1149ft2 - Enjoy 2 Weeks FREE- Le...  3864        2         2   \n",
       "4  $2400 / 1br - 550ft2 - Cozy 1 bed/1 bath in Co...  2400        1         1   \n",
       "\n",
       "  Square_feet           Dog           Cat Parking     Smoking  \\\n",
       "0        2200           NaN           NaN     NaN  no smoking   \n",
       "1         950           NaN  cats are OK      NaN  no smoking   \n",
       "2        1286  dogs are OK   cats are OK      NaN         NaN   \n",
       "3        1149  dogs are OK   cats are OK      NaN  no smoking   \n",
       "4         550           NaN           NaN     NaN  no smoking   \n",
       "\n",
       "       Time_posted    Longitude   Latitude Area  \n",
       "0  2020-03-0218:03  -122.188886  37.451399  pen  \n",
       "1  2020-03-0218:03  -122.139221  37.686232  eby  \n",
       "2  2020-02-2018:13  -122.274055  37.795558  eby  \n",
       "3  2020-03-0217:27  -121.984400  37.348300  sby  \n",
       "4  2020-03-0218:02  -122.152399  37.460140  pen  "
      ]
     },
     "execution_count": 39,
     "metadata": {},
     "output_type": "execute_result"
    }
   ],
   "source": [
    "df.head()"
   ]
  },
  {
   "cell_type": "code",
   "execution_count": 40,
   "metadata": {},
   "outputs": [
    {
     "data": {
      "text/plain": [
       "Title             0\n",
       "Price             6\n",
       "Bedrooms         96\n",
       "Bathrooms        96\n",
       "Square_feet     799\n",
       "Dog            1361\n",
       "Cat            1155\n",
       "Parking        2379\n",
       "Smoking        1060\n",
       "Time_posted       1\n",
       "Longitude        16\n",
       "Latitude         16\n",
       "Area              0\n",
       "dtype: int64"
      ]
     },
     "execution_count": 40,
     "metadata": {},
     "output_type": "execute_result"
    }
   ],
   "source": [
    "# lets see how many values were missing\n",
    "df.isna().sum()"
   ]
  },
  {
   "cell_type": "markdown",
   "metadata": {},
   "source": [
    "There alot of variables missing, but we can fill some of them up by assuming that if the postings didn't specify that dogs were ok meant that they were not ok."
   ]
  },
  {
   "cell_type": "code",
   "execution_count": 41,
   "metadata": {},
   "outputs": [],
   "source": [
    "# Im going to guess that if they didn't clarify that dogs/cats are ok that means they are not ok\n",
    "df['Dog'] = df['Dog'].str.contains('OK')\n",
    "df['Dog'] = df['Dog'].replace(True, 'Yes')\n",
    "df['Dog'] = df['Dog'].replace(np.nan, 'No')"
   ]
  },
  {
   "cell_type": "code",
   "execution_count": 42,
   "metadata": {},
   "outputs": [],
   "source": [
    "df['Cat'] = df['Cat'].str.contains('OK')\n",
    "df['Cat'] = df['Cat'].replace(True, 'Yes')\n",
    "df['Cat'] = df['Cat'].replace(np.nan, 'No')"
   ]
  },
  {
   "cell_type": "code",
   "execution_count": 43,
   "metadata": {},
   "outputs": [],
   "source": [
    "# Assume if poster didn't put no smoking then smoking is ok\n",
    "df['Smoking'] = df['Smoking'].replace(np.nan, 'smoking ok')"
   ]
  },
  {
   "cell_type": "code",
   "execution_count": 44,
   "metadata": {},
   "outputs": [
    {
     "data": {
      "text/plain": [
       "1         1906\n",
       "2          695\n",
       "1.5        123\n",
       "2.5         88\n",
       "3           47\n",
       "3.5         13\n",
       "0            9\n",
       "4            8\n",
       "split        5\n",
       "4.5          3\n",
       "shared       3\n",
       "5.5          2\n",
       "5            1\n",
       "Name: Bathrooms, dtype: int64"
      ]
     },
     "execution_count": 44,
     "metadata": {},
     "output_type": "execute_result"
    }
   ],
   "source": [
    "# there are string values in number of bathrooms\n",
    "df['Bathrooms'].value_counts()"
   ]
  },
  {
   "cell_type": "code",
   "execution_count": 45,
   "metadata": {},
   "outputs": [],
   "source": [
    "df['Bathrooms'] = df['Bathrooms'].replace(['shared', 'split'], .5)"
   ]
  },
  {
   "cell_type": "code",
   "execution_count": 46,
   "metadata": {},
   "outputs": [],
   "source": [
    "# change datatypes to floats\n",
    "df[['Price', 'Bedrooms', 'Bathrooms', 'Longitude', 'Latitude', 'Square_feet']] = df[['Price', 'Bedrooms', 'Bathrooms','Longitude', 'Latitude', 'Square_feet']].astype('float64')"
   ]
  },
  {
   "cell_type": "code",
   "execution_count": 47,
   "metadata": {},
   "outputs": [],
   "source": [
    "# Make column time stamp\n",
    "df['Time_posted'] = pd.to_datetime(df['Time_posted'],format='%Y-%m-%d%H:%M')"
   ]
  },
  {
   "cell_type": "code",
   "execution_count": 48,
   "metadata": {},
   "outputs": [
    {
     "data": {
      "text/html": [
       "<div>\n",
       "<style scoped>\n",
       "    .dataframe tbody tr th:only-of-type {\n",
       "        vertical-align: middle;\n",
       "    }\n",
       "\n",
       "    .dataframe tbody tr th {\n",
       "        vertical-align: top;\n",
       "    }\n",
       "\n",
       "    .dataframe thead th {\n",
       "        text-align: right;\n",
       "    }\n",
       "</style>\n",
       "<table border=\"1\" class=\"dataframe\">\n",
       "  <thead>\n",
       "    <tr style=\"text-align: right;\">\n",
       "      <th></th>\n",
       "      <th>Title</th>\n",
       "      <th>Price</th>\n",
       "      <th>Bedrooms</th>\n",
       "      <th>Bathrooms</th>\n",
       "      <th>Square_feet</th>\n",
       "      <th>Dog</th>\n",
       "      <th>Cat</th>\n",
       "      <th>Parking</th>\n",
       "      <th>Smoking</th>\n",
       "      <th>Time_posted</th>\n",
       "      <th>Longitude</th>\n",
       "      <th>Latitude</th>\n",
       "      <th>Area</th>\n",
       "    </tr>\n",
       "  </thead>\n",
       "  <tbody>\n",
       "    <tr>\n",
       "      <td>0</td>\n",
       "      <td>$7500 / 4br - 2200ft2 - Prime Location Near Do...</td>\n",
       "      <td>7500.0</td>\n",
       "      <td>4.0</td>\n",
       "      <td>2.0</td>\n",
       "      <td>2200.0</td>\n",
       "      <td>No</td>\n",
       "      <td>No</td>\n",
       "      <td>NaN</td>\n",
       "      <td>no smoking</td>\n",
       "      <td>2020-03-02 18:03:00</td>\n",
       "      <td>-122.188886</td>\n",
       "      <td>37.451399</td>\n",
       "      <td>pen</td>\n",
       "    </tr>\n",
       "    <tr>\n",
       "      <td>1</td>\n",
       "      <td>$2195 / 1br - 950ft2 - YOUR DREAM HOME IS ABOU...</td>\n",
       "      <td>2195.0</td>\n",
       "      <td>1.0</td>\n",
       "      <td>1.0</td>\n",
       "      <td>950.0</td>\n",
       "      <td>No</td>\n",
       "      <td>Yes</td>\n",
       "      <td>NaN</td>\n",
       "      <td>no smoking</td>\n",
       "      <td>2020-03-02 18:03:00</td>\n",
       "      <td>-122.139221</td>\n",
       "      <td>37.686232</td>\n",
       "      <td>eby</td>\n",
       "    </tr>\n",
       "    <tr>\n",
       "      <td>2</td>\n",
       "      <td>$5375 / 3br - 1286ft2 - Stunning Views of the ...</td>\n",
       "      <td>5375.0</td>\n",
       "      <td>3.0</td>\n",
       "      <td>2.0</td>\n",
       "      <td>1286.0</td>\n",
       "      <td>Yes</td>\n",
       "      <td>Yes</td>\n",
       "      <td>NaN</td>\n",
       "      <td>smoking ok</td>\n",
       "      <td>2020-02-20 18:13:00</td>\n",
       "      <td>-122.274055</td>\n",
       "      <td>37.795558</td>\n",
       "      <td>eby</td>\n",
       "    </tr>\n",
       "    <tr>\n",
       "      <td>3</td>\n",
       "      <td>$3864 / 2br - 1149ft2 - Enjoy 2 Weeks FREE- Le...</td>\n",
       "      <td>3864.0</td>\n",
       "      <td>2.0</td>\n",
       "      <td>2.0</td>\n",
       "      <td>1149.0</td>\n",
       "      <td>Yes</td>\n",
       "      <td>Yes</td>\n",
       "      <td>NaN</td>\n",
       "      <td>no smoking</td>\n",
       "      <td>2020-03-02 17:27:00</td>\n",
       "      <td>-121.984400</td>\n",
       "      <td>37.348300</td>\n",
       "      <td>sby</td>\n",
       "    </tr>\n",
       "    <tr>\n",
       "      <td>4</td>\n",
       "      <td>$2400 / 1br - 550ft2 - Cozy 1 bed/1 bath in Co...</td>\n",
       "      <td>2400.0</td>\n",
       "      <td>1.0</td>\n",
       "      <td>1.0</td>\n",
       "      <td>550.0</td>\n",
       "      <td>No</td>\n",
       "      <td>No</td>\n",
       "      <td>NaN</td>\n",
       "      <td>no smoking</td>\n",
       "      <td>2020-03-02 18:02:00</td>\n",
       "      <td>-122.152399</td>\n",
       "      <td>37.460140</td>\n",
       "      <td>pen</td>\n",
       "    </tr>\n",
       "    <tr>\n",
       "      <td>5</td>\n",
       "      <td>$2800 / 2br - 1061ft2 - Courtyard Top Floor Tw...</td>\n",
       "      <td>2800.0</td>\n",
       "      <td>2.0</td>\n",
       "      <td>2.0</td>\n",
       "      <td>1061.0</td>\n",
       "      <td>Yes</td>\n",
       "      <td>Yes</td>\n",
       "      <td>NaN</td>\n",
       "      <td>no smoking</td>\n",
       "      <td>2020-03-02 18:02:00</td>\n",
       "      <td>-122.057397</td>\n",
       "      <td>37.901322</td>\n",
       "      <td>eby</td>\n",
       "    </tr>\n",
       "    <tr>\n",
       "      <td>6</td>\n",
       "      <td>$4000 / 3br - 800ft2 - 3BR, 2BA: Spacious, Urb...</td>\n",
       "      <td>4000.0</td>\n",
       "      <td>3.0</td>\n",
       "      <td>2.0</td>\n",
       "      <td>800.0</td>\n",
       "      <td>No</td>\n",
       "      <td>No</td>\n",
       "      <td>street parking</td>\n",
       "      <td>no smoking</td>\n",
       "      <td>2020-03-02 17:54:00</td>\n",
       "      <td>-122.407001</td>\n",
       "      <td>37.795077</td>\n",
       "      <td>sfc</td>\n",
       "    </tr>\n",
       "    <tr>\n",
       "      <td>7</td>\n",
       "      <td>$6850 / 2br - 1300ft2 - Remodeled Home on Larg...</td>\n",
       "      <td>6850.0</td>\n",
       "      <td>2.0</td>\n",
       "      <td>2.5</td>\n",
       "      <td>1300.0</td>\n",
       "      <td>No</td>\n",
       "      <td>No</td>\n",
       "      <td>street parking</td>\n",
       "      <td>no smoking</td>\n",
       "      <td>2020-03-02 18:02:00</td>\n",
       "      <td>-122.145085</td>\n",
       "      <td>37.434029</td>\n",
       "      <td>pen</td>\n",
       "    </tr>\n",
       "    <tr>\n",
       "      <td>8</td>\n",
       "      <td>$2450 / 2br - 1000ft2 - ENJOY THE LUXURY OF TH...</td>\n",
       "      <td>2450.0</td>\n",
       "      <td>2.0</td>\n",
       "      <td>1.0</td>\n",
       "      <td>1000.0</td>\n",
       "      <td>No</td>\n",
       "      <td>Yes</td>\n",
       "      <td>NaN</td>\n",
       "      <td>no smoking</td>\n",
       "      <td>2020-03-02 18:02:00</td>\n",
       "      <td>-122.139221</td>\n",
       "      <td>37.686232</td>\n",
       "      <td>eby</td>\n",
       "    </tr>\n",
       "    <tr>\n",
       "      <td>9</td>\n",
       "      <td>$2705 / 1br - 770ft2 - 1-Bedroom with 2 Closet...</td>\n",
       "      <td>2705.0</td>\n",
       "      <td>1.0</td>\n",
       "      <td>1.0</td>\n",
       "      <td>770.0</td>\n",
       "      <td>Yes</td>\n",
       "      <td>Yes</td>\n",
       "      <td>NaN</td>\n",
       "      <td>no smoking</td>\n",
       "      <td>2020-03-02 18:02:00</td>\n",
       "      <td>-122.272470</td>\n",
       "      <td>37.762614</td>\n",
       "      <td>eby</td>\n",
       "    </tr>\n",
       "  </tbody>\n",
       "</table>\n",
       "</div>"
      ],
      "text/plain": [
       "                                               Title   Price  Bedrooms  \\\n",
       "0  $7500 / 4br - 2200ft2 - Prime Location Near Do...  7500.0       4.0   \n",
       "1  $2195 / 1br - 950ft2 - YOUR DREAM HOME IS ABOU...  2195.0       1.0   \n",
       "2  $5375 / 3br - 1286ft2 - Stunning Views of the ...  5375.0       3.0   \n",
       "3  $3864 / 2br - 1149ft2 - Enjoy 2 Weeks FREE- Le...  3864.0       2.0   \n",
       "4  $2400 / 1br - 550ft2 - Cozy 1 bed/1 bath in Co...  2400.0       1.0   \n",
       "5  $2800 / 2br - 1061ft2 - Courtyard Top Floor Tw...  2800.0       2.0   \n",
       "6  $4000 / 3br - 800ft2 - 3BR, 2BA: Spacious, Urb...  4000.0       3.0   \n",
       "7  $6850 / 2br - 1300ft2 - Remodeled Home on Larg...  6850.0       2.0   \n",
       "8  $2450 / 2br - 1000ft2 - ENJOY THE LUXURY OF TH...  2450.0       2.0   \n",
       "9  $2705 / 1br - 770ft2 - 1-Bedroom with 2 Closet...  2705.0       1.0   \n",
       "\n",
       "   Bathrooms  Square_feet  Dog  Cat         Parking     Smoking  \\\n",
       "0        2.0       2200.0   No   No             NaN  no smoking   \n",
       "1        1.0        950.0   No  Yes             NaN  no smoking   \n",
       "2        2.0       1286.0  Yes  Yes             NaN  smoking ok   \n",
       "3        2.0       1149.0  Yes  Yes             NaN  no smoking   \n",
       "4        1.0        550.0   No   No             NaN  no smoking   \n",
       "5        2.0       1061.0  Yes  Yes             NaN  no smoking   \n",
       "6        2.0        800.0   No   No  street parking  no smoking   \n",
       "7        2.5       1300.0   No   No  street parking  no smoking   \n",
       "8        1.0       1000.0   No  Yes             NaN  no smoking   \n",
       "9        1.0        770.0  Yes  Yes             NaN  no smoking   \n",
       "\n",
       "          Time_posted   Longitude   Latitude Area  \n",
       "0 2020-03-02 18:03:00 -122.188886  37.451399  pen  \n",
       "1 2020-03-02 18:03:00 -122.139221  37.686232  eby  \n",
       "2 2020-02-20 18:13:00 -122.274055  37.795558  eby  \n",
       "3 2020-03-02 17:27:00 -121.984400  37.348300  sby  \n",
       "4 2020-03-02 18:02:00 -122.152399  37.460140  pen  \n",
       "5 2020-03-02 18:02:00 -122.057397  37.901322  eby  \n",
       "6 2020-03-02 17:54:00 -122.407001  37.795077  sfc  \n",
       "7 2020-03-02 18:02:00 -122.145085  37.434029  pen  \n",
       "8 2020-03-02 18:02:00 -122.139221  37.686232  eby  \n",
       "9 2020-03-02 18:02:00 -122.272470  37.762614  eby  "
      ]
     },
     "execution_count": 48,
     "metadata": {},
     "output_type": "execute_result"
    }
   ],
   "source": [
    "# Our results. readyt to analyze\n",
    "df.head(10)"
   ]
  },
  {
   "cell_type": "code",
   "execution_count": 49,
   "metadata": {},
   "outputs": [],
   "source": [
    "# save csv to work EDA on anothe notebooks\n",
    "df.to_csv('Craigslist.csv', index = False)"
   ]
  }
 ],
 "metadata": {
  "kernelspec": {
   "display_name": "Python 3",
   "language": "python",
   "name": "python3"
  },
  "language_info": {
   "codemirror_mode": {
    "name": "ipython",
    "version": 3
   },
   "file_extension": ".py",
   "mimetype": "text/x-python",
   "name": "python",
   "nbconvert_exporter": "python",
   "pygments_lexer": "ipython3",
   "version": "3.8.3"
  }
 },
 "nbformat": 4,
 "nbformat_minor": 2
}
